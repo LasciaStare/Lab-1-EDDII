{
  "nbformat": 4,
  "nbformat_minor": 0,
  "metadata": {
    "colab": {
      "provenance": [],
      "include_colab_link": true
    },
    "kernelspec": {
      "name": "python3",
      "display_name": "Python 3"
    },
    "language_info": {
      "name": "python"
    }
  },
  "cells": [
    {
      "cell_type": "markdown",
      "metadata": {
        "id": "view-in-github",
        "colab_type": "text"
      },
      "source": [
        "<a href=\"https://colab.research.google.com/github/LasciaStare/Lab-1-EDDII/blob/main/Main.ipynb\" target=\"_parent\"><img src=\"https://colab.research.google.com/assets/colab-badge.svg\" alt=\"Open In Colab\"/></a>"
      ]
    },
    {
      "cell_type": "markdown",
      "source": [
        "# Laboratorio Estructura de datos II."
      ],
      "metadata": {
        "id": "gpuBAjoxKvg4"
      }
    },
    {
      "cell_type": "code",
      "source": [
        "!pip install graphviz"
      ],
      "metadata": {
        "id": "uw9fd8RQnLAv",
        "colab": {
          "base_uri": "https://localhost:8080/"
        },
        "outputId": "ae7be874-707e-446a-a897-b72c059d781b"
      },
      "execution_count": 2,
      "outputs": [
        {
          "output_type": "stream",
          "name": "stdout",
          "text": [
            "Requirement already satisfied: graphviz in /usr/local/lib/python3.10/dist-packages (0.20.1)\n"
          ]
        }
      ]
    },
    {
      "cell_type": "code",
      "source": [
        "from google.colab import drive\n",
        "drive.mount('/content/drive/')"
      ],
      "metadata": {
        "id": "MEsLIAGzcXJf",
        "colab": {
          "base_uri": "https://localhost:8080/"
        },
        "outputId": "0e1fbb2a-4a2e-464f-de3c-d3ee044be7c7"
      },
      "execution_count": 3,
      "outputs": [
        {
          "output_type": "stream",
          "name": "stdout",
          "text": [
            "Mounted at /content/drive/\n"
          ]
        }
      ]
    },
    {
      "cell_type": "code",
      "source": [
        "import os\n",
        "import graphviz\n",
        "from typing import Any, List, Optional, Tuple"
      ],
      "metadata": {
        "id": "XJRmvJK2k900"
      },
      "execution_count": 4,
      "outputs": []
    },
    {
      "cell_type": "code",
      "source": [
        "# Ruta a la carpeta montada en Google Drive\n",
        "folder_path = '/content/drive/MyDrive/Lab/data'\n",
        "\n",
        "# Obtener nombres de archivos en la carpeta\n",
        "types = os.listdir(folder_path)\n",
        "for tipo in types:\n",
        "  # Construir la ruta completa de la subcarpeta\n",
        "  subcarpeta_path = os.path.join(folder_path, tipo)\n",
        "  # Verificar si la subcarpeta es un directorio\n",
        "  if os.path.isdir(subcarpeta_path):\n",
        "    if os.path.isdir(subcarpeta_path):\n",
        "        # Obtener los nombres de archivos de la subcarpeta y asignarlos directamente a una lista con el nombre de la subcarpeta\n",
        "        globals()[tipo] = os.listdir(subcarpeta_path)"
      ],
      "metadata": {
        "id": "ksWJ4JLqmZtk"
      },
      "execution_count": 5,
      "outputs": []
    },
    {
      "cell_type": "markdown",
      "source": [
        "Nodo"
      ],
      "metadata": {
        "id": "yuhnCzLek_rV"
      }
    },
    {
      "cell_type": "code",
      "execution_count": 6,
      "metadata": {
        "id": "eOTlMRz0KaeR"
      },
      "outputs": [],
      "source": [
        "class Nodo:\n",
        "\n",
        "    nodo_counter = 0\n",
        "    def __init__(self, name: str,Type : str) -> None:\n",
        "        Nodo.nodo_counter+=1\n",
        "        self.name: name\n",
        "        self.left: Optional[\"Node\"] = None\n",
        "        self.right: Optional[\"Node\"] = None\n",
        "        self.height = 0\n",
        "        self.Type = Type\n",
        "        self.weight = os.path.getsize(os.path.join(folder_path, Type, name))\n",
        "\n",
        "class AVL:\n",
        "\n",
        "    def __init__(self) -> None:\n",
        "        self.root = None\n",
        "    #Step 1 Perform as a Arbol de busqueda\n",
        "    def insert(self, name, Type):\n",
        "        if self.root is None:\n",
        "          self.root = Nodo(name, Type)\n",
        "        else:\n",
        "          self.root = self._insert(name, Type, None)\n",
        "\n",
        "    def _insert(self, name, Type, root):\n",
        "        if root is None:\n",
        "          return Nodo(name, Type)\n",
        "        elif name < root.name:\n",
        "            root.left = self.insert(root.left, name, Type, root)\n",
        "        else:\n",
        "            root.right = self.insert(root.right, name, Type, root)\n",
        "\n",
        "        # Step 2 - Update the height of the\n",
        "        # ancestor node\n",
        "        root.height = 1 + max(self.getHeight(root.left),\n",
        "                              self.getHeight(root.right))\n",
        "\n",
        "        # Step 3 - Get the balance factor\n",
        "        balance = self.getBalance(root)\n",
        "\n",
        "        # Step 4 - If the node is unbalanced,\n",
        "        # then try out the 4 cases\n",
        "        # Case 1 - Left Left\n",
        "        if balance > 1 and name < root.left.name:\n",
        "            return self.rotateRight(root)\n",
        "\n",
        "        # Case 2 - Right Right\n",
        "        if balance < -1 and name > root.right.name:\n",
        "            return self.rotateLeft(root)\n",
        "\n",
        "        # Case 3 - Left Right\n",
        "        if balance > 1 and name > root.left.name:\n",
        "            root.left = self.rotateLeft(root.left)\n",
        "            return self.rotateRight(root)\n",
        "\n",
        "        # Case 4 - Right Left\n",
        "        if balance < -1 and name < root.right.name:\n",
        "            root.right = self.rotateRight(root.right)\n",
        "            return self.rotateLeft(root)\n",
        "\n",
        "        return root\n",
        "\n",
        "    def rotateLeft(self, root):\n",
        "\n",
        "        right_child = root.right\n",
        "        left_grandchild = right_child.left\n",
        "\n",
        "        # Perform rotation\n",
        "        right_child.left = root\n",
        "        root.right = left_grandchild\n",
        "\n",
        "        # Update heights\n",
        "        root.height = 1 + max(self.getHeight(root.left),\n",
        "                              self.getHeight(root.right))\n",
        "        right_child.height = 1 + max(self.getHeight(right_child.left),\n",
        "                                     self.getHeight(right_child.right))\n",
        "\n",
        "        # Return the new root\n",
        "        return right_child\n",
        "\n",
        "    def rotateRight(self, root):\n",
        "\n",
        "        left_child = root.left\n",
        "        right_grandchild = left_child.right\n",
        "\n",
        "        # Perform rotation\n",
        "        left_child.right = root\n",
        "        root.left = right_grandchild\n",
        "\n",
        "        # Update heights\n",
        "        root.height = 1 + max(self.getHeight(root.left),\n",
        "                              self.getHeight(root.right))\n",
        "        left_child.height = 1 + max(self.getHeight(left_child.left),\n",
        "                                    self.getHeight(left_child.right))\n",
        "\n",
        "        # Return the new root\n",
        "        return left_child\n",
        "\n",
        "    def getHeight(self, root):\n",
        "        if not root:\n",
        "            return 0\n",
        "\n",
        "        return root.height\n",
        "\n",
        "    def getBalance(self, root):\n",
        "        if not root:\n",
        "            return 0\n",
        "\n",
        "        return self.getHeight(root.left) - self.getHeight(root.right)\n",
        "\n",
        "\n",
        "        # Hallar el padre\n",
        "    def findParent(self, root, nodo): #nodo = resultado de la busqueda\n",
        "        if not root:\n",
        "            return None\n",
        "\n",
        "        # Si el nodo es la raíz, no tiene padre\n",
        "        if root == nodo:\n",
        "            return None\n",
        "\n",
        "        # Verificar si el nodo buscado está a la izquierda de la raíz\n",
        "        if root.left and root.left == nodo:\n",
        "            return root\n",
        "\n",
        "        # Verificar si el nodo buscado está a la derecha de la raíz\n",
        "        if root.right and root.right == nodo:\n",
        "            return root\n",
        "\n",
        "        # Recursivamente buscar en el subárbol izquierdo\n",
        "        if root.left:\n",
        "            parent = self.findParent(root.left, nodo)\n",
        "            if parent:\n",
        "                return parent\n",
        "\n",
        "        # Recursivamente buscar en el subárbol derecho\n",
        "        if root.right:\n",
        "            parent = self.findParent(root.right, nodo)\n",
        "            if parent:\n",
        "                return parent\n",
        "\n",
        "        # Si no se encuentra en ningún subárbol, retornar None\n",
        "        return None\n",
        "\n",
        "\n",
        "    #Hallar el abuelo\n",
        "    def findGrandParent(self, root, nodo):\n",
        "        if not root:\n",
        "            return None\n",
        "\n",
        "        parent = self.findParent(root, nodo)\n",
        "        if parent:\n",
        "            grandparent = self.findParent(root, parent)\n",
        "            return grandparent\n",
        "        else:\n",
        "            return None\n",
        "\n",
        "    #Hallar tio\n",
        "    def findUncle(self, root, nodo):\n",
        "        if not root:\n",
        "            return None\n",
        "\n",
        "        parent = self.findParent(root, nodo)\n",
        "        if parent:\n",
        "            grandparent = self.findParent(root, parent)\n",
        "            if grandparent:\n",
        "                if grandparent.left == parent:\n",
        "                    return grandparent.right\n",
        "                else:\n",
        "                    return grandparent.left\n",
        "        return None\n",
        "\n"
      ]
    },
    {
      "cell_type": "markdown",
      "source": [],
      "metadata": {
        "id": "8JbosLi7Kunc"
      }
    },
    {
      "cell_type": "markdown",
      "source": [
        "Submenu"
      ],
      "metadata": {
        "id": "t2kNHuVGrROj"
      }
    },
    {
      "cell_type": "code",
      "source": [
        "def additional_operations(nodo):\n",
        "    print(\"Operaciones adicionales para el nodo seleccionado:\")\n",
        "    print(\"a. Obtener el nivel del nodo\")\n",
        "    print(\"b. Obtener el factor de balanceo (equilibrio) del nodo\")\n",
        "    print(\"c. Encontrar el padre del nodo\")\n",
        "    print(\"d. Encontrar el abuelo del nodo\")\n",
        "    print(\"e. Encontrar el tío del nodo\")\n",
        "\n",
        "    sub_choice = input(\"Seleccione una operación adicional: \")\n",
        "    if sub_choice == \"a\":\n",
        "        print(\"Nivel del nodo:\", nodo.get_level())\n",
        "    elif sub_choice == \"b\":\n",
        "        print(\"Factor de balanceo del nodo:\", nodo.getBalance())\n",
        "    elif sub_choice == \"c\":\n",
        "        print(\"Padre del nodo:\", nodo.findParent())\n",
        "    elif sub_choice == \"d\":\n",
        "        print(\"Abuelo del nodo:\", nodo.findGrandparent())\n",
        "    elif sub_choice == \"e\":\n",
        "        print(\"Tío del nodo:\", nodo.findUncle())\n",
        "    else:\n",
        "        print(\"Opción no válida. Por favor, seleccione una opción válida.\")\n"
      ],
      "metadata": {
        "id": "2pTufnAOrR7Z"
      },
      "execution_count": 7,
      "outputs": []
    },
    {
      "cell_type": "markdown",
      "source": [
        "Menú"
      ],
      "metadata": {
        "id": "1TqRaoIon_Ef"
      }
    },
    {
      "cell_type": "code",
      "source": [
        "# Función para mostrar el menú\n",
        "def show_menu():\n",
        "    print(\"Menú:\")\n",
        "    print(\"1. Insertar un nodo\")\n",
        "    print(\"2. Eliminar un nodo\")\n",
        "    print(\"3. Buscar un nodo\")\n",
        "    print(\"4. Buscar nodos por criterios\")\n",
        "    print(\"5. Mostrar recorrido por niveles\")\n",
        "    print(\"6. Salir\")\n",
        "\n",
        "# Ejemplo de uso\n",
        "Tree = AVL()\n",
        "root = None\n",
        "\n",
        "while True:\n",
        "    show_menu()\n",
        "    choice = int(input(\"Seleccione una opción: \"))\n",
        "\n",
        "    if choice == 1:\n",
        "        name = input(\"Ingrese el nombre del archivo: \")\n",
        "        Type = input(\"Ingrese el tipo del archivo: \")\n",
        "        Tree.insert(name, Type)\n",
        "        print(\"Nodo insertado con éxito.\")\n",
        "\n",
        "    elif choice == 6:\n",
        "        print(\"Saliendo del programa...\")\n",
        "        break\n",
        "\n",
        "    else:\n",
        "        print(\"Opción no válida. Por favor, seleccione una opción válida.\")\n"
      ],
      "metadata": {
        "id": "VsUwoVopn9f4"
      },
      "execution_count": null,
      "outputs": []
    }
  ]
}